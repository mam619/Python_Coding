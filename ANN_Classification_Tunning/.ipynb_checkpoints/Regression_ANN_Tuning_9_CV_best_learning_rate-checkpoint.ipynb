{
 "cells": [
  {
   "cell_type": "markdown",
   "metadata": {},
   "source": [
    "<h1> Parameter Tunning with MinMax\n",
    "    \n",
    "    GridCV for: learning rate "
   ]
  },
  {
   "cell_type": "markdown",
   "metadata": {},
   "source": [
    "# Importing libraries:"
   ]
  },
  {
   "cell_type": "code",
   "execution_count": 7,
   "metadata": {},
   "outputs": [
    {
     "name": "stdout",
     "output_type": "stream",
     "text": [
      "Requirement already satisfied: pandas in c:\\users\\maria\\anaconda3\\lib\\site-packages (1.0.1)\n",
      "Requirement already satisfied: python-dateutil>=2.6.1 in c:\\users\\maria\\anaconda3\\lib\\site-packages (from pandas) (2.8.1)\n",
      "Requirement already satisfied: numpy>=1.13.3 in c:\\users\\maria\\anaconda3\\lib\\site-packages (from pandas) (1.18.1)\n",
      "Requirement already satisfied: pytz>=2017.2 in c:\\users\\maria\\anaconda3\\lib\\site-packages (from pandas) (2019.3)\n",
      "Requirement already satisfied: six>=1.5 in c:\\users\\maria\\anaconda3\\lib\\site-packages (from python-dateutil>=2.6.1->pandas) (1.14.0)\n",
      "Requirement already satisfied: sklearn in c:\\users\\maria\\anaconda3\\lib\\site-packages (0.0)\n",
      "Requirement already satisfied: scikit-learn in c:\\users\\maria\\anaconda3\\lib\\site-packages (from sklearn) (0.22.1)\n",
      "Requirement already satisfied: joblib>=0.11 in c:\\users\\maria\\anaconda3\\lib\\site-packages (from scikit-learn->sklearn) (0.14.1)\n",
      "Requirement already satisfied: numpy>=1.11.0 in c:\\users\\maria\\anaconda3\\lib\\site-packages (from scikit-learn->sklearn) (1.18.1)\n",
      "Requirement already satisfied: scipy>=0.17.0 in c:\\users\\maria\\anaconda3\\lib\\site-packages (from scikit-learn->sklearn) (1.4.1)\n"
     ]
    }
   ],
   "source": [
    "!pip install pandas\n",
    "!pip install sklearn\n",
    "\n",
    "import pandas as pd;\n",
    "import numpy as np;\n",
    "import sklearn\n",
    "from sklearn.model_selection import train_test_split, cross_validate, cross_val_predict;\n",
    "from sklearn.preprocessing import MinMaxScaler;\n",
    "from sklearn import metrics;\n",
    "from sklearn.model_selection import TimeSeriesSplit;"
   ]
  },
  {
   "cell_type": "markdown",
   "metadata": {},
   "source": [
    "# Import data; set X and y; fill nan values and split in test and training  data:"
   ]
  },
  {
   "cell_type": "code",
   "execution_count": 8,
   "metadata": {},
   "outputs": [
    {
     "name": "stdout",
     "output_type": "stream",
     "text": [
      "2500.0\n"
     ]
    },
    {
     "name": "stderr",
     "output_type": "stream",
     "text": [
      "C:\\Users\\maria\\anaconda3\\lib\\site-packages\\pandas\\core\\generic.py:6245: SettingWithCopyWarning: \n",
      "A value is trying to be set on a copy of a slice from a DataFrame\n",
      "\n",
      "See the caveats in the documentation: https://pandas.pydata.org/pandas-docs/stable/user_guide/indexing.html#returning-a-view-versus-a-copy\n",
      "  self._update_inplace(new_data)\n"
     ]
    }
   ],
   "source": [
    "# import data\n",
    "data = pd.read_csv('Data_set_1_smaller.csv', index_col = 0)\n",
    "\n",
    "# filter max values for offer if required\n",
    "print(data.Offers.max()) #max is 2500... no need to filter max values\n",
    "\n",
    "# 2017 & 2018 data\n",
    "data = data.loc[data.index > 2018090000, :]\n",
    "\n",
    "# reset index\n",
    "data.reset_index(inplace = True)\n",
    "data.drop('index', axis = 1, inplace = True)\n",
    "\n",
    "# Divide features and labels\n",
    "X = data.iloc[:, 0:15]\n",
    "y = data.loc[:, 'Offers']\n",
    "\n",
    "# Fill nan values (BEFORE OR AFTER TEST, TRAIN SPLIT!!!)\n",
    "# !!!!!!!!!!!!!!!!!!!!!!!!!!!!!!!!!!!!!!!!!!!!!!!!!!!!!\n",
    "X.fillna(X.mean(), inplace = True)\n",
    "y.fillna(y.mean(), inplace = True)\n",
    "\n",
    "X = X.astype('float64')\n",
    "X = X.round(20)\n",
    "\n",
    "# divide data into train and test with 20% test data\n",
    "X_train, X_test, y_train, y_test = train_test_split(\n",
    "         X, y, test_size=0.1, shuffle=False)"
   ]
  },
  {
   "cell_type": "markdown",
   "metadata": {},
   "source": [
    "# Apply feature scaling:"
   ]
  },
  {
   "cell_type": "code",
   "execution_count": 9,
   "metadata": {},
   "outputs": [],
   "source": [
    "sc_X = MinMaxScaler()\n",
    "X_train = sc_X.fit_transform(X_train)\n",
    "X_test = sc_X.transform(X_test)"
   ]
  },
  {
   "cell_type": "markdown",
   "metadata": {},
   "source": [
    "# Importing the Keras libraries and packages:"
   ]
  },
  {
   "cell_type": "code",
   "execution_count": 10,
   "metadata": {},
   "outputs": [],
   "source": [
    "import keras\n",
    "from keras.models import Sequential # to initialise the NN\n",
    "from keras.layers import Dense # to create layers\n",
    "from keras.layers import Dropout\n",
    "from keras import optimizers\n",
    "from keras import initializers\n",
    "from keras.wrappers.scikit_learn import KerasRegressor\n",
    "from sklearn.model_selection import RandomizedSearchCV, GridSearchCV"
   ]
  },
  {
   "cell_type": "markdown",
   "metadata": {},
   "source": [
    "# Create regressor:"
   ]
  },
  {
   "cell_type": "code",
   "execution_count": 11,
   "metadata": {},
   "outputs": [],
   "source": [
    "# possible debug\n",
    "X_train = np.nan_to_num(X_train)\n",
    "X_test = np.nan_to_num(X_test)\n",
    "\n",
    "def regressor_tunning(n_hidden = 2, n_neurons = 30, kernel_initializer=\"he_normal\",\n",
    "    bias_initializer= initializers.Ones(), learning_rate = 0.001):\n",
    "    model = Sequential()\n",
    "    model.add(Dense(units = n_neurons, \n",
    "                    input_dim = 15))\n",
    "    model.add(keras.layers.LeakyReLU(alpha = 0.2))\n",
    "    for layer in range(n_hidden):\n",
    "        model.add(Dense(n_neurons))\n",
    "        model.add(keras.layers.LeakyReLU(alpha = 0.2))\n",
    "    model.add(Dense(units = 1, \n",
    "                    activation = 'linear'))\n",
    "    optimizer = optimizers.Adamax(lr = learning_rate)\n",
    "    model.compile(loss = 'mse', optimizer = optimizer, metrics = ['mse', 'mae'])\n",
    "    return model"
   ]
  },
  {
   "cell_type": "markdown",
   "metadata": {},
   "source": [
    "# Apply Randomized tunning for the whole ANN:"
   ]
  },
  {
   "cell_type": "code",
   "execution_count": 12,
   "metadata": {},
   "outputs": [
    {
     "name": "stdout",
     "output_type": "stream",
     "text": [
      "Epoch 1/100\n",
      "264/264 [==============================] - 0s 1ms/step - loss: 11023.0312 - mse: 11023.0312 - mae: 89.5482\n",
      "Epoch 2/100\n",
      "264/264 [==============================] - 0s 1ms/step - loss: 2379.5315 - mse: 2379.5315 - mae: 26.6413\n",
      "Epoch 3/100\n",
      "264/264 [==============================] - 0s 1ms/step - loss: 2303.3396 - mse: 2303.3396 - mae: 27.0791\n",
      "Epoch 4/100\n",
      "264/264 [==============================] - 0s 1ms/step - loss: 2298.8733 - mse: 2298.8733 - mae: 26.9864\n",
      "Epoch 5/100\n",
      "264/264 [==============================] - 0s 1ms/step - loss: 2294.2085 - mse: 2294.2083 - mae: 26.9726\n",
      "Epoch 6/100\n",
      "264/264 [==============================] - 0s 1ms/step - loss: 2288.3083 - mse: 2288.3083 - mae: 26.8593\n",
      "Epoch 7/100\n",
      "264/264 [==============================] - 0s 1ms/step - loss: 2286.5601 - mse: 2286.5601 - mae: 26.9242\n",
      "Epoch 8/100\n",
      "264/264 [==============================] - 0s 1ms/step - loss: 2282.2507 - mse: 2282.2507 - mae: 26.9592\n",
      "Epoch 9/100\n",
      "264/264 [==============================] - 0s 1ms/step - loss: 2280.4448 - mse: 2280.4448 - mae: 26.6863\n",
      "Epoch 10/100\n",
      "264/264 [==============================] - 0s 1ms/step - loss: 2277.5732 - mse: 2277.5732 - mae: 26.7714\n",
      "Epoch 11/100\n",
      "264/264 [==============================] - 0s 1ms/step - loss: 2273.7720 - mse: 2273.7720 - mae: 26.7292\n",
      "Epoch 12/100\n",
      "264/264 [==============================] - 0s 1ms/step - loss: 2270.8162 - mse: 2270.8162 - mae: 26.9356\n",
      "Epoch 13/100\n",
      "264/264 [==============================] - 0s 1ms/step - loss: 2269.5020 - mse: 2269.5020 - mae: 26.6223\n",
      "Epoch 14/100\n",
      "264/264 [==============================] - 0s 1ms/step - loss: 2265.2930 - mse: 2265.2930 - mae: 26.7322\n",
      "Epoch 15/100\n",
      "264/264 [==============================] - 0s 1ms/step - loss: 2262.8926 - mse: 2262.8926 - mae: 26.6187\n",
      "Epoch 16/100\n",
      "264/264 [==============================] - 0s 1ms/step - loss: 2260.3955 - mse: 2260.3955 - mae: 26.7096\n",
      "Epoch 17/100\n",
      "264/264 [==============================] - 0s 1ms/step - loss: 2259.2222 - mse: 2259.2217 - mae: 26.6359\n",
      "Epoch 18/100\n",
      "264/264 [==============================] - 0s 1ms/step - loss: 2256.8901 - mse: 2256.8901 - mae: 26.6177\n",
      "Epoch 19/100\n",
      "264/264 [==============================] - 0s 1ms/step - loss: 2255.1301 - mse: 2255.1301 - mae: 26.7159\n",
      "Epoch 20/100\n",
      "264/264 [==============================] - 0s 1ms/step - loss: 2254.7603 - mse: 2254.7603 - mae: 26.5788\n",
      "Epoch 21/100\n",
      "264/264 [==============================] - 0s 1ms/step - loss: 2252.8584 - mse: 2252.8584 - mae: 26.5432\n",
      "Epoch 22/100\n",
      "264/264 [==============================] - 0s 1ms/step - loss: 2250.2581 - mse: 2250.2581 - mae: 26.5884\n",
      "Epoch 23/100\n",
      "264/264 [==============================] - 0s 1ms/step - loss: 2248.7737 - mse: 2248.7737 - mae: 26.4622\n",
      "Epoch 24/100\n",
      "264/264 [==============================] - 0s 1ms/step - loss: 2247.1711 - mse: 2247.1711 - mae: 26.5039\n",
      "Epoch 25/100\n",
      "264/264 [==============================] - 0s 1ms/step - loss: 2242.0354 - mse: 2242.0354 - mae: 26.6188\n",
      "Epoch 26/100\n",
      "264/264 [==============================] - 0s 1ms/step - loss: 2242.4785 - mse: 2242.4785 - mae: 26.2929\n",
      "Epoch 27/100\n",
      "264/264 [==============================] - 0s 1ms/step - loss: 2242.3767 - mse: 2242.3767 - mae: 26.5572\n",
      "Epoch 28/100\n",
      "264/264 [==============================] - 0s 1ms/step - loss: 2239.3154 - mse: 2239.3154 - mae: 26.3740\n",
      "Epoch 29/100\n",
      "264/264 [==============================] - 0s 1ms/step - loss: 2239.3215 - mse: 2239.3215 - mae: 26.5354\n",
      "Epoch 30/100\n",
      "264/264 [==============================] - 0s 1ms/step - loss: 2236.6338 - mse: 2236.6338 - mae: 26.3413\n",
      "Epoch 31/100\n",
      "264/264 [==============================] - 0s 1ms/step - loss: 2235.1279 - mse: 2235.1279 - mae: 26.3617\n",
      "Epoch 32/100\n",
      "264/264 [==============================] - 0s 1ms/step - loss: 2234.2104 - mse: 2234.2104 - mae: 26.3369\n",
      "Epoch 33/100\n",
      "264/264 [==============================] - 0s 1ms/step - loss: 2233.7512 - mse: 2233.7512 - mae: 26.5323\n",
      "Epoch 34/100\n",
      "264/264 [==============================] - 0s 1ms/step - loss: 2232.0642 - mse: 2232.0642 - mae: 26.2672\n",
      "Epoch 35/100\n",
      "264/264 [==============================] - 0s 1ms/step - loss: 2229.3958 - mse: 2229.3958 - mae: 26.4554\n",
      "Epoch 36/100\n",
      "264/264 [==============================] - 0s 1ms/step - loss: 2229.2754 - mse: 2229.2754 - mae: 26.1462\n",
      "Epoch 37/100\n",
      "264/264 [==============================] - 0s 1ms/step - loss: 2228.1626 - mse: 2228.1626 - mae: 26.3649\n",
      "Epoch 38/100\n",
      "264/264 [==============================] - 0s 1ms/step - loss: 2225.4060 - mse: 2225.4058 - mae: 26.3245\n",
      "Epoch 39/100\n",
      "264/264 [==============================] - 0s 2ms/step - loss: 2226.2461 - mse: 2226.2461 - mae: 26.1480\n",
      "Epoch 40/100\n",
      "264/264 [==============================] - 1s 2ms/step - loss: 2222.3899 - mse: 2222.3899 - mae: 26.1286\n",
      "Epoch 41/100\n",
      "264/264 [==============================] - 1s 2ms/step - loss: 2223.8960 - mse: 2223.8960 - mae: 26.3607\n",
      "Epoch 42/100\n",
      "264/264 [==============================] - 1s 2ms/step - loss: 2222.3347 - mse: 2222.3347 - mae: 26.2321\n",
      "Epoch 43/100\n",
      "264/264 [==============================] - 0s 2ms/step - loss: 2219.5859 - mse: 2219.5859 - mae: 26.1560\n",
      "Epoch 44/100\n",
      "264/264 [==============================] - 0s 1ms/step - loss: 2219.3169 - mse: 2219.3169 - mae: 26.3738\n",
      "Epoch 45/100\n",
      "264/264 [==============================] - 0s 1ms/step - loss: 2218.4978 - mse: 2218.4978 - mae: 26.1640\n",
      "Epoch 46/100\n",
      "264/264 [==============================] - 0s 1ms/step - loss: 2217.3821 - mse: 2217.3821 - mae: 26.1528\n",
      "Epoch 47/100\n",
      "264/264 [==============================] - 0s 2ms/step - loss: 2215.8542 - mse: 2215.8542 - mae: 26.1561\n",
      "Epoch 48/100\n",
      "264/264 [==============================] - 0s 1ms/step - loss: 2214.7131 - mse: 2214.7129 - mae: 26.1353\n",
      "Epoch 49/100\n",
      "264/264 [==============================] - 0s 2ms/step - loss: 2214.1201 - mse: 2214.1201 - mae: 26.1998\n",
      "Epoch 50/100\n",
      "264/264 [==============================] - 0s 1ms/step - loss: 2212.8923 - mse: 2212.8923 - mae: 26.1358\n",
      "Epoch 51/100\n",
      "264/264 [==============================] - 0s 1ms/step - loss: 2211.7402 - mse: 2211.7402 - mae: 26.0441\n",
      "Epoch 52/100\n",
      "264/264 [==============================] - 0s 1ms/step - loss: 2211.1653 - mse: 2211.1653 - mae: 26.1951\n",
      "Epoch 53/100\n",
      "264/264 [==============================] - 0s 2ms/step - loss: 2210.3921 - mse: 2210.3921 - mae: 26.1252\n",
      "Epoch 54/100\n",
      "264/264 [==============================] - 0s 1ms/step - loss: 2208.1040 - mse: 2208.1040 - mae: 25.9644\n",
      "Epoch 55/100\n",
      "264/264 [==============================] - 0s 1ms/step - loss: 2207.7180 - mse: 2207.7180 - mae: 26.1447\n",
      "Epoch 56/100\n",
      "264/264 [==============================] - 0s 1ms/step - loss: 2206.7332 - mse: 2206.7332 - mae: 26.1310\n",
      "Epoch 57/100\n",
      "264/264 [==============================] - 0s 1ms/step - loss: 2204.6960 - mse: 2204.6960 - mae: 25.9272\n",
      "Epoch 58/100\n",
      "264/264 [==============================] - 0s 1ms/step - loss: 2204.1619 - mse: 2204.1619 - mae: 25.9484\n",
      "Epoch 59/100\n",
      "264/264 [==============================] - 0s 1ms/step - loss: 2204.3713 - mse: 2204.3713 - mae: 26.1077\n",
      "Epoch 60/100\n",
      "264/264 [==============================] - 0s 1ms/step - loss: 2203.5796 - mse: 2203.5796 - mae: 25.9255\n",
      "Epoch 61/100\n",
      "264/264 [==============================] - 0s 1ms/step - loss: 2200.8311 - mse: 2200.8311 - mae: 26.1502\n",
      "Epoch 62/100\n",
      "264/264 [==============================] - 0s 1ms/step - loss: 2201.9731 - mse: 2201.9731 - mae: 25.8998\n",
      "Epoch 63/100\n",
      "264/264 [==============================] - 0s 1ms/step - loss: 2201.4373 - mse: 2201.4373 - mae: 26.0049\n",
      "Epoch 64/100\n",
      "264/264 [==============================] - 0s 1ms/step - loss: 2200.0601 - mse: 2200.0601 - mae: 25.9497\n",
      "Epoch 65/100\n",
      "264/264 [==============================] - 0s 1ms/step - loss: 2200.0125 - mse: 2200.0125 - mae: 25.9315\n",
      "Epoch 66/100\n",
      "264/264 [==============================] - 0s 1ms/step - loss: 2197.0879 - mse: 2197.0879 - mae: 25.9987\n",
      "Epoch 67/100\n",
      "264/264 [==============================] - 0s 1ms/step - loss: 2193.0374 - mse: 2193.0374 - mae: 25.7511\n",
      "Epoch 68/100\n",
      "264/264 [==============================] - 0s 1ms/step - loss: 2196.1782 - mse: 2196.1782 - mae: 26.0452\n",
      "Epoch 69/100\n",
      "264/264 [==============================] - 0s 1ms/step - loss: 2195.7080 - mse: 2195.7080 - mae: 25.8879\n",
      "Epoch 70/100\n"
     ]
    },
    {
     "name": "stdout",
     "output_type": "stream",
     "text": [
      "264/264 [==============================] - 0s 1ms/step - loss: 2193.2329 - mse: 2193.2329 - mae: 25.9389\n",
      "Epoch 71/100\n",
      "264/264 [==============================] - 0s 1ms/step - loss: 2194.8975 - mse: 2194.8975 - mae: 25.8358\n",
      "Epoch 72/100\n",
      "264/264 [==============================] - 0s 1ms/step - loss: 2192.1738 - mse: 2192.1741 - mae: 25.9073\n",
      "Epoch 73/100\n",
      "264/264 [==============================] - 0s 1ms/step - loss: 2191.2441 - mse: 2191.2439 - mae: 25.8524\n",
      "Epoch 74/100\n",
      "264/264 [==============================] - 0s 1ms/step - loss: 2192.2239 - mse: 2192.2239 - mae: 25.8929\n",
      "Epoch 75/100\n",
      "264/264 [==============================] - 0s 1ms/step - loss: 2190.5303 - mse: 2190.5303 - mae: 25.8832\n",
      "Epoch 76/100\n",
      "264/264 [==============================] - 0s 1ms/step - loss: 2188.9377 - mse: 2188.9380 - mae: 25.7379\n",
      "Epoch 77/100\n",
      "264/264 [==============================] - 0s 1ms/step - loss: 2188.1899 - mse: 2188.1899 - mae: 25.7195\n",
      "Epoch 78/100\n",
      "264/264 [==============================] - 0s 1ms/step - loss: 2189.2554 - mse: 2189.2554 - mae: 26.0726\n",
      "Epoch 79/100\n",
      "264/264 [==============================] - 0s 1ms/step - loss: 2187.2490 - mse: 2187.2490 - mae: 25.8514\n",
      "Epoch 80/100\n",
      "264/264 [==============================] - 0s 1ms/step - loss: 2187.7288 - mse: 2187.7288 - mae: 25.6909\n",
      "Epoch 81/100\n",
      "264/264 [==============================] - 0s 1ms/step - loss: 2185.3101 - mse: 2185.3101 - mae: 25.7283\n",
      "Epoch 82/100\n",
      "264/264 [==============================] - 0s 1ms/step - loss: 2185.3372 - mse: 2185.3372 - mae: 25.9786\n",
      "Epoch 83/100\n",
      "264/264 [==============================] - 0s 1ms/step - loss: 2184.9834 - mse: 2184.9834 - mae: 25.7567\n",
      "Epoch 84/100\n",
      "264/264 [==============================] - 0s 1ms/step - loss: 2183.6951 - mse: 2183.6951 - mae: 25.7743\n",
      "Epoch 85/100\n",
      "264/264 [==============================] - 0s 1ms/step - loss: 2183.1165 - mse: 2183.1165 - mae: 25.6968\n",
      "Epoch 86/100\n",
      "264/264 [==============================] - 0s 1ms/step - loss: 2183.2107 - mse: 2183.2107 - mae: 25.7691\n",
      "Epoch 87/100\n",
      "264/264 [==============================] - 0s 1ms/step - loss: 2182.9199 - mse: 2182.9199 - mae: 25.8421\n",
      "Epoch 88/100\n",
      "264/264 [==============================] - 0s 1ms/step - loss: 2181.6375 - mse: 2181.6375 - mae: 25.5522\n",
      "Epoch 89/100\n",
      "264/264 [==============================] - 0s 1ms/step - loss: 2182.1008 - mse: 2182.1008 - mae: 25.8360\n",
      "Epoch 90/100\n",
      "264/264 [==============================] - 0s 1ms/step - loss: 2180.4521 - mse: 2180.4521 - mae: 25.7207\n",
      "Epoch 91/100\n",
      "264/264 [==============================] - 0s 2ms/step - loss: 2181.0088 - mse: 2181.0088 - mae: 25.6748\n",
      "Epoch 92/100\n",
      "264/264 [==============================] - 0s 2ms/step - loss: 2179.5710 - mse: 2179.5710 - mae: 25.7760\n",
      "Epoch 93/100\n",
      "264/264 [==============================] - 0s 2ms/step - loss: 2179.3545 - mse: 2179.3545 - mae: 25.5781\n",
      "Epoch 94/100\n",
      "264/264 [==============================] - 0s 1ms/step - loss: 2178.8723 - mse: 2178.8723 - mae: 25.8381\n",
      "Epoch 95/100\n",
      "264/264 [==============================] - 0s 1ms/step - loss: 2178.0706 - mse: 2178.0706 - mae: 25.6227\n",
      "Epoch 96/100\n",
      "264/264 [==============================] - 0s 1ms/step - loss: 2177.6267 - mse: 2177.6267 - mae: 25.6549\n",
      "Epoch 97/100\n",
      "264/264 [==============================] - 0s 1ms/step - loss: 2177.7351 - mse: 2177.7351 - mae: 25.7249\n",
      "Epoch 98/100\n",
      "264/264 [==============================] - 0s 1ms/step - loss: 2175.5371 - mse: 2175.5371 - mae: 25.7253\n",
      "Epoch 99/100\n",
      "264/264 [==============================] - 0s 1ms/step - loss: 2177.1025 - mse: 2177.1025 - mae: 25.6076\n",
      "Epoch 100/100\n",
      "264/264 [==============================] - 0s 1ms/step - loss: 2174.5896 - mse: 2174.5896 - mae: 25.5700\n"
     ]
    },
    {
     "data": {
      "text/plain": [
       "GridSearchCV(cv=TimeSeriesSplit(max_train_size=None, n_splits=6),\n",
       "             error_score=nan,\n",
       "             estimator=<tensorflow.python.keras.wrappers.scikit_learn.KerasRegressor object at 0x000001EE7F7E8548>,\n",
       "             iid='deprecated', n_jobs=-1,\n",
       "             param_grid={'learning_rate': [1e-05, 0.0001, 0.001, 0.01, 0.1, 1]},\n",
       "             pre_dispatch='2*n_jobs', refit=True, return_train_score=False,\n",
       "             scoring='neg_mean_squared_error', verbose=0)"
      ]
     },
     "execution_count": 12,
     "metadata": {},
     "output_type": "execute_result"
    }
   ],
   "source": [
    "regressor = KerasRegressor(build_fn = regressor_tunning)\n",
    "\n",
    "# Dictionary to include the parameters\n",
    "parameters = {'learning_rate': [0.00001, 0.0001, 0.001, 0.01, 0.1, 1]\n",
    "               }\n",
    "\n",
    "tscv = TimeSeriesSplit(n_splits = 6)\n",
    "\n",
    "# add some early stopping\n",
    "from keras.callbacks import EarlyStopping\n",
    "early_stopping = EarlyStopping(monitor='mse', patience = 15)\n",
    "\n",
    "rnd_search_cv = GridSearchCV(estimator = regressor,\n",
    "                                   param_grid = parameters,\n",
    "                                   scoring = 'neg_mean_squared_error',\n",
    "                                   n_jobs = -1,\n",
    "                                   cv = tscv)\n",
    "\n",
    "# checkpoints:\n",
    "# early_stopping_cb = keras.callbacks.EarlyStopping(patience = 10, restore_best_weights = True)\n",
    "# checkpoint_cb = keras.callbacks.ModelCheckpoint(\"my_keras_model.h5\")\n",
    "\n",
    "rnd_search_cv.fit(X_train, y_train, batch_size = 20, epochs = 100, callbacks=[early_stopping])\n"
   ]
  },
  {
   "cell_type": "code",
   "execution_count": 13,
   "metadata": {},
   "outputs": [
    {
     "name": "stdout",
     "output_type": "stream",
     "text": [
      "the best parameters are:{'learning_rate': 0.001}\n",
      "the best score is:-1946.111339014489\n"
     ]
    }
   ],
   "source": [
    "best_params_1 = rnd_search_cv.best_params_\n",
    "best_score_1 = rnd_search_cv.best_score_\n",
    "#results = rnd_search_cv.cv_results_\n",
    "\n",
    "print(\"the best parameters are:{}\".format(best_params_1))\n",
    "print(\"the best score is:{}\".format(best_score_1))\n",
    "#print(\"results:\".format(results))"
   ]
  },
  {
   "cell_type": "code",
   "execution_count": null,
   "metadata": {},
   "outputs": [],
   "source": []
  }
 ],
 "metadata": {
  "kernelspec": {
   "display_name": "Python 3",
   "language": "python",
   "name": "python3"
  },
  "language_info": {
   "codemirror_mode": {
    "name": "ipython",
    "version": 3
   },
   "file_extension": ".py",
   "mimetype": "text/x-python",
   "name": "python",
   "nbconvert_exporter": "python",
   "pygments_lexer": "ipython3",
   "version": "3.7.6"
  }
 },
 "nbformat": 4,
 "nbformat_minor": 4
}
